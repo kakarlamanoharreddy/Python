{
 "cells": [
  {
   "cell_type": "code",
   "execution_count": 4,
   "id": "3c451c75",
   "metadata": {},
   "outputs": [
    {
     "name": "stdout",
     "output_type": "stream",
     "text": [
      "The album was made in the 70's and 90's\n"
     ]
    }
   ],
   "source": [
    "#Conditional and Branching\n",
    "album_year = 1970\n",
    "if(album_year<1980) or (album_year>1989):\n",
    "    print(\"The album was made in the 70's and 90's\")\n",
    "else:\n",
    "    print(\"The album is made in the 80's\")"
   ]
  },
  {
   "cell_type": "code",
   "execution_count": 5,
   "id": "98a7e3d6",
   "metadata": {},
   "outputs": [
    {
     "data": {
      "text/plain": [
       "True"
      ]
     },
     "execution_count": 5,
     "metadata": {},
     "output_type": "execute_result"
    }
   ],
   "source": [
    "Char.\tASCII\tChar.\tASCII\tChar.\tASCII\tChar.\tASCII\n",
    "A\t65\tN\t78\ta\t97\tn\t110\n",
    "B\t66\tO\t79\tb\t98\to\t111\n",
    "C\t67\tP\t80\tc\t99\tp\t112\n",
    "D\t68\tQ\t81\td\t100\tq\t113\n",
    "E\t69\tR\t82\te\t101\tr\t114\n",
    "F\t70\tS\t83\tf\t102\ts\t115\n",
    "G\t71\tT\t84\tg\t103\tt\t116\n",
    "H\t72\tU\t85\th\t104\tu\t117\n",
    "I\t73\tV\t86\ti\t105\tv\t118\n",
    "J\t74\tW\t87\tj\t106\tw\t119\n",
    "K\t75\tX\t88\tk\t107\tx\t120\n",
    "L\t76\tY\t89\tl\t108\ty\t121\n",
    "M\t77\tZ\t90\tm\t109\tz\t122"
   ]
  },
  {
   "cell_type": "code",
   "execution_count": 6,
   "id": "ce1d287e",
   "metadata": {},
   "outputs": [
    {
     "data": {
      "text/plain": [
       "True"
      ]
     },
     "execution_count": 6,
     "metadata": {},
     "output_type": "execute_result"
    }
   ],
   "source": [
    "'BA' > 'AB'"
   ]
  },
  {
   "cell_type": "code",
   "execution_count": null,
   "id": "16c55a50",
   "metadata": {},
   "outputs": [],
   "source": [
    "# If statement example\n",
    "\n",
    "age = 19\n",
    "#age = 18\n",
    "\n",
    "#expression that can be true or false\n",
    "if age > 18:\n",
    "    \n",
    "    #within an indent, we have the expression that is run if the condition is true\n",
    "    print(\"you can enter\" )\n",
    "\n",
    "#The statements after the if statement will run regardless if the condition is true or false \n",
    "print(\"move on\")"
   ]
  },
  {
   "cell_type": "code",
   "execution_count": 11,
   "id": "fa3c6f4c",
   "metadata": {},
   "outputs": [
    {
     "name": "stdout",
     "output_type": "stream",
     "text": [
      "Grow up\n",
      "Welcome\n"
     ]
    }
   ],
   "source": [
    "age = 19\n",
    "if age>18:\n",
    "    print(\"Welcome to Teen age\")\n",
    "else:\n",
    "    print(\"Grow up\")\n",
    "print(\"Welcome\")"
   ]
  },
  {
   "cell_type": "code",
   "execution_count": 13,
   "id": "ed833abc",
   "metadata": {},
   "outputs": [
    {
     "name": "stdout",
     "output_type": "stream",
     "text": [
      "Just entered teenage world\n",
      "Welcome\n"
     ]
    }
   ],
   "source": [
    "# Elif statment example\n",
    "age = 18\n",
    "if age<18:\n",
    "    print(\"You are a child\")\n",
    "elif age ==18:\n",
    "    print(\"Just entered teenage world\")\n",
    "else:\n",
    "    print(\"You are men\")\n",
    "print(\"Welcome\")"
   ]
  },
  {
   "cell_type": "code",
   "execution_count": 14,
   "id": "8e295073",
   "metadata": {},
   "outputs": [
    {
     "name": "stdout",
     "output_type": "stream",
     "text": [
      "do something..\n"
     ]
    }
   ],
   "source": [
    "# Condition statement example\n",
    "\n",
    "album_year = 1983\n",
    "album_year = 1970\n",
    "\n",
    "if album_year > 1980:\n",
    "    print(\"Album year is greater than 1980\")\n",
    "    \n",
    "print('do something..')"
   ]
  },
  {
   "cell_type": "code",
   "execution_count": 21,
   "id": "96ca4fbf",
   "metadata": {},
   "outputs": [
    {
     "name": "stdout",
     "output_type": "stream",
     "text": [
      "The album made in 70..\n"
     ]
    }
   ],
   "source": [
    "album_year = 1990\n",
    "album_year = 2000\n",
    "if album_year>2011:\n",
    "    print(\"The album made between 90's and 20's\")\n",
    "\n",
    "print('The album made in 70..')"
   ]
  },
  {
   "cell_type": "code",
   "execution_count": 23,
   "id": "92325020",
   "metadata": {},
   "outputs": [
    {
     "data": {
      "text/plain": [
       "False"
      ]
     },
     "execution_count": 23,
     "metadata": {},
     "output_type": "execute_result"
    }
   ],
   "source": [
    "5!=5"
   ]
  },
  {
   "cell_type": "code",
   "execution_count": null,
   "id": "2c66bf83",
   "metadata": {},
   "outputs": [],
   "source": [
    "#For loop in Python"
   ]
  },
  {
   "cell_type": "code",
   "execution_count": 3,
   "id": "c7f2ffdd",
   "metadata": {},
   "outputs": [
    {
     "name": "stdout",
     "output_type": "stream",
     "text": [
      "Red\n",
      "Yellow\n",
      "Blue\n"
     ]
    }
   ],
   "source": [
    "colors = [\"Red\", \"Yellow\",\"Blue\"]\n",
    "for color in colors:\n",
    "    print(color)"
   ]
  },
  {
   "cell_type": "code",
   "execution_count": 8,
   "id": "8e5e2b0c",
   "metadata": {},
   "outputs": [
    {
     "name": "stdout",
     "output_type": "stream",
     "text": [
      "0\n",
      "1\n",
      "2\n",
      "3\n",
      "4\n",
      "5\n",
      "6\n",
      "7\n",
      "8\n",
      "9\n",
      "10\n"
     ]
    }
   ],
   "source": [
    "#for number in range(1, 11):\n",
    "#    print(number)\n",
    "for number in range(11):\n",
    "    print(number)"
   ]
  },
  {
   "cell_type": "code",
   "execution_count": 9,
   "id": "138b30d1",
   "metadata": {},
   "outputs": [
    {
     "name": "stdout",
     "output_type": "stream",
     "text": [
      "At position 0, i found a Banana\n",
      "At position 1, i found a Apple\n",
      "At position 2, i found a Grapes\n"
     ]
    }
   ],
   "source": [
    "#The Enumerated For Loop\n",
    "fruits =[\"Banana\",\"Apple\",\"Grapes\"]\n",
    "for index,fruit in enumerate(fruits):\n",
    "    print(f\"At position {index}, i found a {fruit}\")"
   ]
  },
  {
   "cell_type": "code",
   "execution_count": null,
   "id": "f53be522",
   "metadata": {},
   "outputs": [],
   "source": [
    "count = 1\n",
    "while count <=10:\n",
    "    print(count)\n",
    "    count = count + 1"
   ]
  },
  {
   "cell_type": "code",
   "execution_count": null,
   "id": "a4223808",
   "metadata": {},
   "outputs": [],
   "source": [
    "count = 1\n",
    "while count <= 10:\n",
    "    print(count)\n",
    "    count += 1"
   ]
  },
  {
   "cell_type": "code",
   "execution_count": null,
   "id": "5dbbe253",
   "metadata": {},
   "outputs": [],
   "source": []
  },
  {
   "cell_type": "code",
   "execution_count": 21,
   "id": "0843d9be",
   "metadata": {},
   "outputs": [],
   "source": [
    "#Functions in Python\n",
    "def add(a):\n",
    "    b=a+1\n",
    "    return b\n",
    "add(10)\n",
    "c=add(a)"
   ]
  },
  {
   "cell_type": "code",
   "execution_count": 27,
   "id": "c0986b21",
   "metadata": {},
   "outputs": [
    {
     "data": {
      "text/plain": [
       "103.0"
      ]
     },
     "execution_count": 27,
     "metadata": {},
     "output_type": "execute_result"
    }
   ],
   "source": [
    "def Mul(a,b):\n",
    "    c=a*b\n",
    "    return c\n",
    "Mul(10,20)\n",
    "Mul(10.3,10)"
   ]
  },
  {
   "cell_type": "code",
   "execution_count": 32,
   "id": "dfdcb4a2",
   "metadata": {},
   "outputs": [
    {
     "data": {
      "text/plain": [
       "'Manohar Manohar Manohar Manohar Manohar Manohar Manohar Manohar Manohar Manohar '"
      ]
     },
     "execution_count": 32,
     "metadata": {},
     "output_type": "execute_result"
    }
   ],
   "source": [
    "def Mul(a,b):\n",
    "    c=a*b\n",
    "    return c\n",
    "Mul(10, \"Manohar \")"
   ]
  },
  {
   "cell_type": "code",
   "execution_count": 35,
   "id": "008dcf1b",
   "metadata": {},
   "outputs": [
    {
     "name": "stdout",
     "output_type": "stream",
     "text": [
      "Manohar\n"
     ]
    }
   ],
   "source": [
    "def MJ():\n",
    "    print(\"Manohar\")\n",
    "MJ()"
   ]
  },
  {
   "cell_type": "code",
   "execution_count": 37,
   "id": "811d0310",
   "metadata": {},
   "outputs": [
    {
     "data": {
      "text/plain": [
       "1.0"
      ]
     },
     "execution_count": 37,
     "metadata": {},
     "output_type": "execute_result"
    }
   ],
   "source": [
    "def Calculate_total(a,b):\n",
    "    total=a/b\n",
    "    return total\n",
    "Calculate_total(10,10)"
   ]
  },
  {
   "cell_type": "code",
   "execution_count": 42,
   "id": "638f586c",
   "metadata": {},
   "outputs": [
    {
     "data": {
      "text/plain": [
       "6"
      ]
     },
     "execution_count": 42,
     "metadata": {},
     "output_type": "execute_result"
    }
   ],
   "source": [
    "#Python built-in Functions\n",
    "#len(): Calculates the length of a sequence or collection\n",
    "string_length=len('Manohar Reddy')\n",
    "string_length\n",
    "\n",
    "list_length=len([1,2,3,4,5,6])\n",
    "list_length"
   ]
  },
  {
   "cell_type": "code",
   "execution_count": 44,
   "id": "cf1620cc",
   "metadata": {},
   "outputs": [
    {
     "data": {
      "text/plain": [
       "20"
      ]
     },
     "execution_count": 44,
     "metadata": {},
     "output_type": "execute_result"
    }
   ],
   "source": [
    "#sum(): Adds up the elements in an iterable (list, tuple, and so on)\n",
    "add_two_elements =sum([10,10])\n",
    "add_two_elements"
   ]
  },
  {
   "cell_type": "code",
   "execution_count": 46,
   "id": "701eba13",
   "metadata": {},
   "outputs": [
    {
     "data": {
      "text/plain": [
       "60"
      ]
     },
     "execution_count": 46,
     "metadata": {},
     "output_type": "execute_result"
    }
   ],
   "source": [
    "#max(): Returns the maximum value in an iterable\n",
    "max_value=max([10,20,11,15,30,18,9,7,60])\n",
    "max_value"
   ]
  },
  {
   "cell_type": "code",
   "execution_count": 48,
   "id": "bb877b3f",
   "metadata": {},
   "outputs": [
    {
     "data": {
      "text/plain": [
       "7"
      ]
     },
     "execution_count": 48,
     "metadata": {},
     "output_type": "execute_result"
    }
   ],
   "source": [
    "#min(): Returns the minimum value in an iterable\n",
    "min_value=min([10,20,11,15,30,18,9,7,60])\n",
    "min_value"
   ]
  },
  {
   "cell_type": "code",
   "execution_count": 56,
   "id": "d9d761f0",
   "metadata": {},
   "outputs": [],
   "source": [
    "# def function_name():\n",
    "#     pass"
   ]
  },
  {
   "cell_type": "code",
   "execution_count": 64,
   "id": "96293b45",
   "metadata": {},
   "outputs": [
    {
     "name": "stdout",
     "output_type": "stream",
     "text": [
      "Hello, Manohar\n",
      "None\n"
     ]
    }
   ],
   "source": [
    "def greet(name):\n",
    "    print(\"Hello, \"+ name)\n",
    "result= greet('Manohar')\n",
    "print(result)    "
   ]
  },
  {
   "cell_type": "code",
   "execution_count": 65,
   "id": "f302c3f2",
   "metadata": {},
   "outputs": [
    {
     "name": "stdout",
     "output_type": "stream",
     "text": [
      "6\n"
     ]
    }
   ],
   "source": [
    "def multiply(a,b):\n",
    "    \"\"\"\"\n",
    "    This function multiplys two numbers\n",
    "    Input: a (number), b (number)\n",
    "    Output: Product of a and b\n",
    "    \"\"\"\n",
    "    print(a*b)\n",
    "multiply(2,3)"
   ]
  },
  {
   "cell_type": "code",
   "execution_count": 67,
   "id": "245da57e",
   "metadata": {},
   "outputs": [
    {
     "data": {
      "text/plain": [
       "8"
      ]
     },
     "execution_count": 67,
     "metadata": {},
     "output_type": "execute_result"
    }
   ],
   "source": [
    "def add(a,b):\n",
    "    return a+b\n",
    "sum_result=add(3,5)\n",
    "sum_result"
   ]
  },
  {
   "cell_type": "code",
   "execution_count": 71,
   "id": "fe1e6d6d",
   "metadata": {},
   "outputs": [
    {
     "name": "stdout",
     "output_type": "stream",
     "text": [
      "I'm global\n",
      "I'm local\n"
     ]
    }
   ],
   "source": [
    "#Understanding scopes and variables\n",
    "#Global Scope: Variables defined outside functions; accessible everywhere\n",
    "#Local Scope: Variables inside functions; only usable within that function\n",
    "\n",
    "\n",
    "#Part 1: Global variable declaration\n",
    "global_variable = \"I'm global\"\n",
    "\n",
    "#Part 2: Function definition\n",
    "def example_function():\n",
    "    local_variable = \"I'm local\"\n",
    "    print(global_variable)  # Accessing global variable\n",
    "    print(local_variable)   # Accessing local variable\n",
    "example_function()          #Calling Function"
   ]
  },
  {
   "cell_type": "code",
   "execution_count": 72,
   "id": "e92238c4",
   "metadata": {},
   "outputs": [
    {
     "name": "stdout",
     "output_type": "stream",
     "text": [
      "I'm global\n"
     ]
    }
   ],
   "source": [
    "#Part 4: Accessing global variable outside the function\n",
    "print(global_variable)"
   ]
  },
  {
   "cell_type": "code",
   "execution_count": 74,
   "id": "fe15bc75",
   "metadata": {},
   "outputs": [],
   "source": [
    "#Part 5: Attempting to access local variable outside the function\n",
    "print(local_variable)   #Name Error will get"
   ]
  },
  {
   "cell_type": "code",
   "execution_count": 75,
   "id": "cf50179d",
   "metadata": {},
   "outputs": [
    {
     "name": "stdout",
     "output_type": "stream",
     "text": [
      "1\n",
      "2\n",
      "3\n",
      "4\n",
      "5\n",
      "6\n",
      "7\n",
      "8\n",
      "9\n",
      "10\n"
     ]
    }
   ],
   "source": [
    "#Using functions with loops\n",
    "\n",
    "\n",
    "def print_numbers(limit):\n",
    "    for i in range(1, limit+1):\n",
    "        print(i)\n",
    "print_numbers(10) "
   ]
  },
  {
   "cell_type": "code",
   "execution_count": null,
   "id": "7cd231e8",
   "metadata": {},
   "outputs": [],
   "source": []
  }
 ],
 "metadata": {
  "kernelspec": {
   "display_name": "Python 3 (ipykernel)",
   "language": "python",
   "name": "python3"
  },
  "language_info": {
   "codemirror_mode": {
    "name": "ipython",
    "version": 3
   },
   "file_extension": ".py",
   "mimetype": "text/x-python",
   "name": "python",
   "nbconvert_exporter": "python",
   "pygments_lexer": "ipython3",
   "version": "3.11.5"
  }
 },
 "nbformat": 4,
 "nbformat_minor": 5
}
